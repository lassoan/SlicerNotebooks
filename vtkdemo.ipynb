{
 "cells": [
  {
   "cell_type": "markdown",
   "metadata": {},
   "source": [
    "# Set up live VTK renderer"
   ]
  },
  {
   "cell_type": "code",
   "execution_count": 3,
   "metadata": {
    "scrolled": false
   },
   "outputs": [
    {
     "data": {
      "application/vnd.jupyter.widget-view+json": {
       "model_id": "8d058a6f6e1541ca8c58e7e0fe298d15",
       "version_major": 2,
       "version_minor": 0
      },
      "text/plain": [
       "ViewInteractiveWidget(height=292, width=384)"
      ]
     },
     "metadata": {},
     "output_type": "display_data"
    }
   ],
   "source": [
    "# Set up live VTK viewer\n",
    "import JupyterNotebooksLib as slicernb\n",
    "slicernb.setViewLayout(\"OneUp3D\")\n",
    "view = slicer.app.layoutManager().threeDWidget(0).threeDView()\n",
    "viewNode = view.mrmlViewNode()\n",
    "viewNode.SetBoxVisible(False)\n",
    "viewNode.SetAxisLabelsVisible(False)\n",
    "renderWindow = view.renderWindow()\n",
    "renderers = renderWindow.GetRenderers()\n",
    "renderer = renderers.GetItemAsObject(0)\n",
    "slicernb.AppWindow.setContents('viewers')\n",
    "slicernb.AppWindow.setWindowSize(scale=0.3)\n",
    "slicernb.AppWindow.setWindowSize(scale=0.3)\n",
    "slicernb.ViewInteractiveWidget(\"1\")"
   ]
  },
  {
   "cell_type": "markdown",
   "metadata": {},
   "source": [
    "# Run any VTK code\n",
    "`renderWindow`, `renderers`, `renderer` variables can be used to display content in the viewer above"
   ]
  },
  {
   "cell_type": "code",
   "execution_count": 4,
   "metadata": {},
   "outputs": [],
   "source": [
    "# Example from https://lorensen.github.io/VTKExamples/site/Python/ImplicitFunctions/Boolean/\n",
    "colors = vtk.vtkNamedColors()\n",
    "\n",
    "# create a sphere\n",
    "sphere = vtk.vtkSphere()\n",
    "sphere.SetRadius(1)\n",
    "sphere.SetCenter(1, 0, 0)\n",
    "\n",
    "# create a box\n",
    "box = vtk.vtkBox()\n",
    "box.SetBounds(-1, 1, -1, 1, -1, 1)\n",
    "\n",
    "# combine the two implicit functions\n",
    "boolean = vtk.vtkImplicitBoolean()\n",
    "boolean.SetOperationTypeToDifference()\n",
    "# boolean.SetOperationTypeToUnion()\n",
    "# boolean.SetOperationTypeToIntersection()\n",
    "boolean.AddFunction(box)\n",
    "boolean.AddFunction(sphere)\n",
    "\n",
    "# The sample function generates a distance function from the implicit\n",
    "# function. This is then contoured to get a polygonal surface.\n",
    "sample = vtk.vtkSampleFunction()\n",
    "sample.SetImplicitFunction(boolean)\n",
    "sample.SetModelBounds(-1, 2, -1, 1, -1, 1)\n",
    "sample.SetSampleDimensions(40, 40, 40)\n",
    "sample.ComputeNormalsOff()\n",
    "\n",
    "# contour\n",
    "surface = vtk.vtkContourFilter()\n",
    "surface.SetInputConnection(sample.GetOutputPort())\n",
    "surface.SetValue(0, 0.0)\n",
    "\n",
    "# mapper\n",
    "mapper = vtk.vtkPolyDataMapper()\n",
    "mapper.SetInputConnection(surface.GetOutputPort())\n",
    "mapper.ScalarVisibilityOff()\n",
    "actor = vtk.vtkActor()\n",
    "actor.SetMapper(mapper)\n",
    "actor.GetProperty().EdgeVisibilityOn()\n",
    "actor.GetProperty().SetColor(colors.GetColor3d('AliceBlue'))\n",
    "actor.GetProperty().SetEdgeColor(colors.GetColor3d('SteelBlue'))\n",
    "\n",
    "# New rendering code:\n",
    "renderer.AddActor(actor)\n",
    "renderer.ResetCamera()"
   ]
  },
  {
   "cell_type": "code",
   "execution_count": 13,
   "metadata": {},
   "outputs": [],
   "source": [
    "# Original VTK example rendering code:\n",
    "    \n",
    "# # A renderer and render window\n",
    "# renderer = vtk.vtkRenderer()\n",
    "# renderer.SetBackground(colors.GetColor3d('Silver'))\n",
    "\n",
    "# # add the actor\n",
    "# renderer.AddActor(actor)\n",
    "\n",
    "# # render window\n",
    "# renwin = vtk.vtkRenderWindow()\n",
    "# renwin.AddRenderer(renderer)\n",
    "\n",
    "# # An interactor\n",
    "# interactor = vtk.vtkRenderWindowInteractor()\n",
    "# interactor.SetRenderWindow(renwin)\n",
    "\n",
    "# # Start\n",
    "# interactor.Initialize()\n",
    "# renwin.Render()\n",
    "# # renderer.GetActiveCamera().AddObserver('ModifiedEvent', CameraModifiedCallback)\n",
    "# renderer.GetActiveCamera().SetPosition(5.0, -4.0, 1.6)\n",
    "# renderer.GetActiveCamera().SetViewUp(0.1, 0.5, 0.9)\n",
    "# renderer.GetActiveCamera().SetDistance(6.7)\n",
    "# renwin.Render()\n",
    "# interactor.Start()"
   ]
  }
 ],
 "metadata": {
  "kernelspec": {
   "display_name": "Slicer 4.11",
   "language": "python",
   "name": "slicer-4.11"
  },
  "language_info": {
   "file_extension": ".py",
   "mimetype": "text/x-python",
   "name": "python",
   "version": "3.6.7"
  }
 },
 "nbformat": 4,
 "nbformat_minor": 4
}
