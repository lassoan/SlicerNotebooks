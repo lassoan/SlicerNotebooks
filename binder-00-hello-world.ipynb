{
 "cells": [
  {
   "cell_type": "markdown",
   "metadata": {},
   "source": [
    "<a href=\"../desktop\" target=\"_blank\"><img src=\"https://www.slicer.org/img/3DSlicerLogo-H-Color-218x144.png\"/>\n",
    "<h1><center>Click here to open 3D Slicer in a new window</center></h1></a>"
   ]
  },
  {
   "cell_type": "code",
   "execution_count": null,
   "metadata": {},
   "outputs": [],
   "source": [
    "# Run this cell (Shift+Enter) to show application here\n",
    "import JupyterNotebooksLib as slicernb\n",
    "slicernb.AppWindow(contents='full')"
   ]
  },
  {
   "cell_type": "code",
   "execution_count": null,
   "metadata": {},
   "outputs": [],
   "source": [
    "# Run this cell to load a file from a URL.\n",
    "# You can load your own data by changing inputs of downloadFromURL.\n",
    "# Any questions? Write us on the Slicer forum: https://discourse.slicer.org\n",
    "slicer.mrmlScene.Clear()\n",
    "\n",
    "volume = slicernb.downloadFromURL(\n",
    "    uris=\"https://github.com/Slicer/SlicerTestingData/releases/download/MD5/39b01631b7b38232a220007230624c8e\",\n",
    "    fileNames=\"MRHead.nrrd\",\n",
    "    nodeNames=\"Volume\")[0]\n",
    "\n",
    "slicernb.showVolumeRendering(volume)"
   ]
  },
  {
   "cell_type": "code",
   "execution_count": null,
   "metadata": {},
   "outputs": [],
   "source": []
  }
 ],
 "metadata": {
  "kernelspec": {
   "display_name": "Slicer 4.11",
   "language": "python",
   "name": "slicer-4.11"
  },
  "language_info": {
   "file_extension": ".py",
   "mimetype": "text/x-python",
   "name": "python",
   "version": "3.6.7"
  }
 },
 "nbformat": 4,
 "nbformat_minor": 4
}
